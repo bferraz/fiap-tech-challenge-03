{
 "cells": [
  {
   "cell_type": "markdown",
   "id": "67223cff",
   "metadata": {},
   "source": [
    "# Tech Challenge (Colab GPU): Fine-tuning OSS com Unsloth + TinyLlama\n",
    "\n",
    "Pipeline completo para rodar no Google Colab com GPU (sem custo de API):\n",
    "\n",
    "1) Montar Google Drive e instalar dependências\n",
    "2) Carregar e limpar dados (title → content) a partir de `/content/drive/MyDrive/FineTunning/TechChallenge03/trn.json.gz`\n",
    "3) Preparar dataset para SFT (prompts + splits)\n",
    "4) Avaliação baseline (modelo base, sem FT)\n",
    "5) Treinamento LoRA com Unsloth + TinyLlama\n",
    "6) Avaliação pós-FT e gráficos\n",
    "7) Salvar artefatos (adapter, métricas, amostras) no Drive\n",
    "\n",
    "Observações:\n",
    "- Use GPU (Runtime > Change runtime type > T4/L4/A100).\n",
    "- bitsandbytes (4-bit) ajuda caber na VRAM.\n",
    "- Ajuste OSS_SUBSET/OSS_EVAL_N/OSS_EPOCHS conforme tempo e GPU."
   ]
  },
  {
   "cell_type": "code",
   "execution_count": null,
   "id": "3a41edae",
   "metadata": {},
   "outputs": [],
   "source": [
    "# 1) Montar Drive e instalar dependências (Colab)\n",
    "import sys, subprocess, os\n",
    "\n",
    "IN_COLAB = False\n",
    "try:\n",
    "    import google.colab  # type: ignore\n",
    "    IN_COLAB = True\n",
    "except Exception:\n",
    "    pass\n",
    "\n",
    "if IN_COLAB:\n",
    "    from google.colab import drive\n",
    "    drive.mount('/content/drive')\n",
    "\n",
    "PKGS = [\n",
    "    'unsloth>=2024.8.12',\n",
    "    'transformers>=4.43',\n",
    "    'accelerate>=0.33',\n",
    "    'datasets>=2.20',\n",
    "    'peft>=0.12.0',\n",
    "    'trl>=0.9.6',\n",
    "    'sacrebleu',\n",
    "    'rouge-score',\n",
    "    'matplotlib',\n",
    "    'tiktoken'\n",
    "]\n",
    "\n",
    "print('Instalando dependências...')\n",
    "subprocess.check_call([sys.executable, '-m', 'pip', 'install', *PKGS])\n",
    "\n",
    "# bitsandbytes geralmente já existe no Colab; garantimos\n",
    "try:\n",
    "    import bitsandbytes as bnb  # type: ignore\n",
    "except Exception:\n",
    "    subprocess.check_call([sys.executable, '-m', 'pip', 'install', '-q', 'bitsandbytes'])\n",
    "\n",
    "print('Setup concluído.')"
   ]
  },
  {
   "cell_type": "code",
   "execution_count": null,
   "id": "38c53292",
   "metadata": {},
   "outputs": [],
   "source": [
    "# 2) Carregar e limpar dados (title → content)\n",
    "import gzip, json, re\n",
    "import pandas as pd\n",
    "import numpy as np\n",
    "from tqdm import tqdm\n",
    "\n",
    "DATA_PATH = '/content/drive/MyDrive/FineTunning/TechChallenge03/trn.json.gz'\n",
    "SEED = int(os.getenv('SEED', 42))\n",
    "MAX_RECORDS = int(os.getenv('MAX_RECORDS_FOR_FT', 200_000))\n",
    "\n",
    "assert os.path.exists(DATA_PATH), f'Arquivo não encontrado: {DATA_PATH}'\n",
    "\n",
    "rows, count = [], 0\n",
    "with gzip.open(DATA_PATH, 'rt', encoding='utf-8') as f:\n",
    "    for line in f:\n",
    "        line = line.strip()\n",
    "        if not line: continue\n",
    "        try:\n",
    "            obj = json.loads(line)\n",
    "        except json.JSONDecodeError:\n",
    "            continue\n",
    "        rows.append({'title': obj.get('title'), 'content': obj.get('content')})\n",
    "        count += 1\n",
    "        if count >= MAX_RECORDS: break\n",
    "\n",
    "df_raw = pd.DataFrame(rows, columns=['title','content']).dropna(how='all')\n",
    "print('Lidas linhas:', len(df_raw))\n",
    "\n",
    "EMPTY_STRINGS = {'none','nan','null','na','n/a'}\n",
    "def clean_text(s):\n",
    "    if s is None: return None\n",
    "    if isinstance(s, float) and np.isnan(s): return None\n",
    "    if isinstance(s, str) and s.strip().lower() in EMPTY_STRINGS: return None\n",
    "    s = str(s)\n",
    "    s = re.sub(r'<[^>]+>', ' ', s)\n",
    "    s = re.sub(r'[`*_#>\\\"]', ' ', s)\n",
    "    s = s.replace('\n",
    "',' ').replace('\n",
    "',' ')\n",
    "    s = re.sub(r'\\s+', ' ', s).strip(\n",
    "\n",
    ","
   ]
  },
  {
   "cell_type": "code",
   "execution_count": null,
   "id": "2caf7695",
   "metadata": {},
   "outputs": [],
   "source": []
  },
  {
   "cell_type": "code",
   "execution_count": null,
   "id": "4dfeca6a",
   "metadata": {},
   "outputs": [],
   "source": []
  },
  {
   "cell_type": "code",
   "execution_count": null,
   "id": "2200243e",
   "metadata": {},
   "outputs": [],
   "source": []
  },
  {
   "cell_type": "code",
   "execution_count": null,
   "id": "aa8182e3",
   "metadata": {},
   "outputs": [],
   "source": []
  },
  {
   "cell_type": "code",
   "execution_count": null,
   "id": "2808b456",
   "metadata": {},
   "outputs": [],
   "source": []
  },
  {
   "cell_type": "code",
   "execution_count": null,
   "id": "660c6efb",
   "metadata": {},
   "outputs": [],
   "source": []
  },
  {
   "cell_type": "code",
   "execution_count": null,
   "id": "078f06e2",
   "metadata": {},
   "outputs": [],
   "source": []
  },
  {
   "cell_type": "code",
   "execution_count": null,
   "id": "89137774",
   "metadata": {},
   "outputs": [],
   "source": []
  },
  {
   "cell_type": "code",
   "execution_count": null,
   "id": "9f0a509d",
   "metadata": {},
   "outputs": [],
   "source": []
  },
  {
   "cell_type": "code",
   "execution_count": null,
   "id": "8e42edbe",
   "metadata": {},
   "outputs": [],
   "source": []
  },
  {
   "cell_type": "code",
   "execution_count": null,
   "id": "b4a374f6",
   "metadata": {},
   "outputs": [],
   "source": []
  },
  {
   "cell_type": "code",
   "execution_count": null,
   "id": "e6f6dbea",
   "metadata": {},
   "outputs": [],
   "source": []
  },
  {
   "cell_type": "code",
   "execution_count": null,
   "id": "4944c5c8",
   "metadata": {},
   "outputs": [],
   "source": []
  },
  {
   "cell_type": "code",
   "execution_count": null,
   "id": "d26a6f3d",
   "metadata": {},
   "outputs": [],
   "source": []
  },
  {
   "cell_type": "code",
   "execution_count": null,
   "id": "6c725666",
   "metadata": {},
   "outputs": [],
   "source": []
  },
  {
   "cell_type": "code",
   "execution_count": null,
   "id": "2fd5429a",
   "metadata": {},
   "outputs": [],
   "source": []
  },
  {
   "cell_type": "code",
   "execution_count": null,
   "id": "9f11639e",
   "metadata": {},
   "outputs": [],
   "source": []
  },
  {
   "cell_type": "code",
   "execution_count": null,
   "id": "57ece841",
   "metadata": {},
   "outputs": [],
   "source": []
  },
  {
   "cell_type": "code",
   "execution_count": null,
   "id": "a7240a1a",
   "metadata": {},
   "outputs": [],
   "source": []
  }
 ],
 "metadata": {
  "language_info": {
   "name": "python"
  }
 },
 "nbformat": 4,
 "nbformat_minor": 5
}
